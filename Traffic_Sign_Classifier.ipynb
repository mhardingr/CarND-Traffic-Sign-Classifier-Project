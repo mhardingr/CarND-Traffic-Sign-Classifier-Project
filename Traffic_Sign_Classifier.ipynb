{
 "cells": [
  {
   "cell_type": "markdown",
   "metadata": {},
   "source": [
    "# Self-Driving Car Engineer Nanodegree\n",
    "\n",
    "## Deep Learning\n",
    "\n",
    "## Project: Build a Traffic Sign Recognition Classifier\n",
    "\n",
    "In this notebook, a template is provided for you to implement your functionality in stages, which is required to successfully complete this project. If additional code is required that cannot be included in the notebook, be sure that the Python code is successfully imported and included in your submission if necessary. \n",
    "\n",
    "> **Note**: Once you have completed all of the code implementations, you need to finalize your work by exporting the iPython Notebook as an HTML document. Before exporting the notebook to html, all of the code cells need to have been run so that reviewers can see the final implementation and output. You can then export the notebook by using the menu above and navigating to  \\n\",\n",
    "    \"**File -> Download as -> HTML (.html)**. Include the finished document along with this notebook as your submission. \n",
    "\n",
    "In addition to implementing code, there is a writeup to complete. The writeup should be completed in a separate file, which can be either a markdown file or a pdf document. There is a [write up template](https://github.com/udacity/CarND-Traffic-Sign-Classifier-Project/blob/master/writeup_template.md) that can be used to guide the writing process. Completing the code template and writeup template will cover all of the [rubric points](https://review.udacity.com/#!/rubrics/481/view) for this project.\n",
    "\n",
    "The [rubric](https://review.udacity.com/#!/rubrics/481/view) contains \"Stand Out Suggestions\" for enhancing the project beyond the minimum requirements. The stand out suggestions are optional. If you decide to pursue the \"stand out suggestions\", you can include the code in this Ipython notebook and also discuss the results in the writeup file.\n",
    "\n",
    "\n",
    ">**Note:** Code and Markdown cells can be executed using the **Shift + Enter** keyboard shortcut. In addition, Markdown cells can be edited by typically double-clicking the cell to enter edit mode."
   ]
  },
  {
   "cell_type": "markdown",
   "metadata": {},
   "source": [
    "---\n",
    "## Step 0: Load The Data"
   ]
  },
  {
   "cell_type": "code",
   "execution_count": 1,
   "metadata": {},
   "outputs": [],
   "source": [
    "# Load pickled data\n",
    "import pickle\n",
    "\n",
    "# TODO: Fill this in based on where you saved the training and testing data\n",
    "\n",
    "training_file = '../data/train.p'\n",
    "validation_file= '../data/valid.p'\n",
    "testing_file = '../data/test.p'\n",
    "\n",
    "with open(training_file, mode='rb') as f:\n",
    "    train = pickle.load(f)\n",
    "with open(validation_file, mode='rb') as f:\n",
    "    valid = pickle.load(f)\n",
    "with open(testing_file, mode='rb') as f:\n",
    "    test = pickle.load(f)\n",
    "    \n",
    "X_train, y_train = train['features'], train['labels']\n",
    "X_valid, y_valid = valid['features'], valid['labels']\n",
    "X_test, y_test = test['features'], test['labels']"
   ]
  },
  {
   "cell_type": "code",
   "execution_count": 2,
   "metadata": {},
   "outputs": [
    {
     "data": {
      "text/plain": [
       "42"
      ]
     },
     "execution_count": 2,
     "metadata": {},
     "output_type": "execute_result"
    }
   ],
   "source": [
    "max(test['labels'])"
   ]
  },
  {
   "cell_type": "markdown",
   "metadata": {},
   "source": [
    "---\n",
    "\n",
    "## Step 1: Dataset Summary & Exploration\n",
    "\n",
    "The pickled data is a dictionary with 4 key/value pairs:\n",
    "\n",
    "- `'features'` is a 4D array containing raw pixel data of the traffic sign images, (num examples, width, height, channels).\n",
    "- `'labels'` is a 1D array containing the label/class id of the traffic sign. The file `signnames.csv` contains id -> name mappings for each id.\n",
    "- `'sizes'` is a list containing tuples, (width, height) representing the original width and height the image.\n",
    "- `'coords'` is a list containing tuples, (x1, y1, x2, y2) representing coordinates of a bounding box around the sign in the image. **THESE COORDINATES ASSUME THE ORIGINAL IMAGE. THE PICKLED DATA CONTAINS RESIZED VERSIONS (32 by 32) OF THESE IMAGES**\n",
    "\n",
    "Complete the basic data summary below. Use python, numpy and/or pandas methods to calculate the data summary rather than hard coding the results. For example, the [pandas shape method](http://pandas.pydata.org/pandas-docs/stable/generated/pandas.DataFrame.shape.html) might be useful for calculating some of the summary results. "
   ]
  },
  {
   "cell_type": "markdown",
   "metadata": {},
   "source": [
    "### Provide a Basic Summary of the Data Set Using Python, Numpy and/or Pandas"
   ]
  },
  {
   "cell_type": "code",
   "execution_count": 3,
   "metadata": {},
   "outputs": [
    {
     "name": "stdout",
     "output_type": "stream",
     "text": [
      "Number of training examples = 34799\n",
      "Number of validation examples = 4410\n",
      "Number of testing examples = 12630\n",
      "Image data shape = (32, 32, 3)\n",
      "Number of classes = 43\n"
     ]
    }
   ],
   "source": [
    "### Replace each question mark with the appropriate value. \n",
    "### Use python, pandas or numpy methods rather than hard coding the results\n",
    "\n",
    "# TODO: Number of training examples\n",
    "n_train = len(train['features'])\n",
    "\n",
    "# TODO: Number of validation examples\n",
    "n_validation = len(valid['features'])\n",
    "\n",
    "# TODO: Number of testing examples.\n",
    "n_test = len(test['features'])\n",
    "\n",
    "# TODO: What's the shape of an traffic sign image?\n",
    "image_shape = train['features'][0].shape\n",
    "\n",
    "# TODO: How many unique classes/labels there are in the dataset.\n",
    "n_classes = 1 + max(train['labels']) - min(train['labels'])\n",
    "\n",
    "print(\"Number of training examples =\", n_train)\n",
    "print(\"Number of validation examples =\", n_validation)\n",
    "print(\"Number of testing examples =\", n_test)\n",
    "print(\"Image data shape =\", image_shape)\n",
    "print(\"Number of classes =\", n_classes)"
   ]
  },
  {
   "cell_type": "markdown",
   "metadata": {},
   "source": [
    "### Include an exploratory visualization of the dataset"
   ]
  },
  {
   "cell_type": "markdown",
   "metadata": {},
   "source": [
    "Visualize the German Traffic Signs Dataset using the pickled file(s). This is open ended, suggestions include: plotting traffic sign images, plotting the count of each sign, etc. \n",
    "\n",
    "The [Matplotlib](http://matplotlib.org/) [examples](http://matplotlib.org/examples/index.html) and [gallery](http://matplotlib.org/gallery.html) pages are a great resource for doing visualizations in Python.\n",
    "\n",
    "**NOTE:** It's recommended you start with something simple first. If you wish to do more, come back to it after you've completed the rest of the sections. It can be interesting to look at the distribution of classes in the training, validation and test set. Is the distribution the same? Are there more examples of some classes than others?"
   ]
  },
  {
   "cell_type": "code",
   "execution_count": 4,
   "metadata": {},
   "outputs": [],
   "source": [
    "### Data exploration visualization code goes here.\n",
    "### Feel free to use as many code cells as needed.\n",
    "import matplotlib.pyplot as plt\n",
    "# Visualizations will be shown in the notebook.\n",
    "%matplotlib inline\n",
    "\n",
    "\n",
    "# Zip and sort by class for all datasets\n",
    "lbl_key = lambda x: x[1]\n",
    "zipped_train = sorted(list(zip(train['features'],train['labels'])), key=lbl_key)\n",
    "zipped_valid = sorted(list(zip(valid['features'], valid['labels'])), key=lbl_key)\n",
    "zipped_test = sorted(list(zip(test['features'],test['labels'])), key=lbl_key)\n",
    "\n",
    "# Select sample training images for each class\n",
    "sample_train_images = []\n",
    "prev_label = None\n",
    "for train_img, train_lbl in zipped_train:\n",
    "    select = False\n",
    "    if prev_label == None:\n",
    "        prev_label = train_lbl\n",
    "        select = True\n",
    "    elif prev_label != train_lbl:\n",
    "        # Assumes sorted by label\n",
    "        select = True\n",
    "    \n",
    "    if select:\n",
    "        sample_train_images.append(train_img)\n",
    "    prev_label = train_lbl\n",
    "    \n",
    "        \n",
    "# Count the number of each class for each dataset\n",
    "train_counts = {x: 0 for x in range(n_classes)}\n",
    "valid_counts = {x: 0 for x in range(n_classes)}\n",
    "test_counts = {x: 0 for x in range(n_classes)}\n",
    "for _, lbl in zipped_train:\n",
    "    train_counts[lbl] += 1\n",
    "for _, lbl in zipped_valid:\n",
    "    valid_counts[lbl] += 1\n",
    "for _, lbl in zipped_test:\n",
    "    test_counts[lbl] += 1  \n"
   ]
  },
  {
   "cell_type": "code",
   "execution_count": 5,
   "metadata": {},
   "outputs": [
    {
     "data": {
      "image/png": "[encoded data removed]",
      "text/plain": [
       "<matplotlib.figure.Figure at 0x7f873f439208>"
      ]
     },
     "metadata": {
      "needs_background": "light"
     },
     "output_type": "display_data"
    }
   ],
   "source": [
    "# Prepare a figure with sample images of each class\n",
    "subplot_rows = 8\n",
    "subplot_cols = 6\n",
    "plt.figure(1)\n",
    "show_row_title = False\n",
    "for i in range(n_classes):\n",
    "    plt.subplot(subplot_rows, subplot_cols, i+1)\n",
    "    if show_row_title and i % subplot_cols == 0:\n",
    "        row_title = \"Classes %d-%d\" % (i, min(i+subplot_cols,n_classes)-1)\n",
    "        plt.ylabel(row_title, rotation=0, size='large')\n",
    "    plt.imshow(sample_train_images[i])\n",
    "plt.savefig(\"./figures/training-class-examples\")"
   ]
  },
  {
   "cell_type": "code",
   "execution_count": 6,
   "metadata": {},
   "outputs": [
    {
     "name": "stdout",
     "output_type": "stream",
     "text": [
      "Class 0:\tTrain %: 0.517\tValid %: 0.680\tTest %: 0.475\n",
      "Class 1:\tTrain %: 5.690\tValid %: 5.442\tTest %: 5.701\n",
      "Class 2:\tTrain %: 5.776\tValid %: 5.442\tTest %: 5.938\n",
      "Class 3:\tTrain %: 3.621\tValid %: 3.401\tTest %: 3.563\n",
      "Class 4:\tTrain %: 5.086\tValid %: 4.762\tTest %: 5.226\n",
      "Class 5:\tTrain %: 4.742\tValid %: 4.762\tTest %: 4.988\n",
      "Class 6:\tTrain %: 1.035\tValid %: 1.361\tTest %: 1.188\n",
      "Class 7:\tTrain %: 3.707\tValid %: 3.401\tTest %: 3.563\n",
      "Class 8:\tTrain %: 3.621\tValid %: 3.401\tTest %: 3.563\n",
      "Class 9:\tTrain %: 3.793\tValid %: 3.401\tTest %: 3.800\n",
      "Class 10:\tTrain %: 5.173\tValid %: 4.762\tTest %: 5.226\n",
      "Class 11:\tTrain %: 3.362\tValid %: 3.401\tTest %: 3.325\n",
      "Class 12:\tTrain %: 5.431\tValid %: 4.762\tTest %: 5.463\n",
      "Class 13:\tTrain %: 5.517\tValid %: 5.442\tTest %: 5.701\n",
      "Class 14:\tTrain %: 1.983\tValid %: 2.041\tTest %: 2.138\n",
      "Class 15:\tTrain %: 1.552\tValid %: 2.041\tTest %: 1.663\n",
      "Class 16:\tTrain %: 1.035\tValid %: 1.361\tTest %: 1.188\n",
      "Class 17:\tTrain %: 2.845\tValid %: 2.721\tTest %: 2.850\n",
      "Class 18:\tTrain %: 3.104\tValid %: 2.721\tTest %: 3.088\n",
      "Class 19:\tTrain %: 0.517\tValid %: 0.680\tTest %: 0.475\n",
      "Class 20:\tTrain %: 0.862\tValid %: 1.361\tTest %: 0.713\n",
      "Class 21:\tTrain %: 0.776\tValid %: 1.361\tTest %: 0.713\n",
      "Class 22:\tTrain %: 0.948\tValid %: 1.361\tTest %: 0.950\n",
      "Class 23:\tTrain %: 1.293\tValid %: 1.361\tTest %: 1.188\n",
      "Class 24:\tTrain %: 0.690\tValid %: 0.680\tTest %: 0.713\n",
      "Class 25:\tTrain %: 3.879\tValid %: 3.401\tTest %: 3.800\n",
      "Class 26:\tTrain %: 1.552\tValid %: 1.361\tTest %: 1.425\n",
      "Class 27:\tTrain %: 0.603\tValid %: 0.680\tTest %: 0.475\n",
      "Class 28:\tTrain %: 1.379\tValid %: 1.361\tTest %: 1.188\n",
      "Class 29:\tTrain %: 0.690\tValid %: 0.680\tTest %: 0.713\n",
      "Class 30:\tTrain %: 1.121\tValid %: 1.361\tTest %: 1.188\n",
      "Class 31:\tTrain %: 1.983\tValid %: 2.041\tTest %: 2.138\n",
      "Class 32:\tTrain %: 0.603\tValid %: 0.680\tTest %: 0.475\n",
      "Class 33:\tTrain %: 1.721\tValid %: 2.041\tTest %: 1.663\n",
      "Class 34:\tTrain %: 1.035\tValid %: 1.361\tTest %: 0.950\n",
      "Class 35:\tTrain %: 3.104\tValid %: 2.721\tTest %: 3.088\n",
      "Class 36:\tTrain %: 0.948\tValid %: 1.361\tTest %: 0.950\n",
      "Class 37:\tTrain %: 0.517\tValid %: 0.680\tTest %: 0.475\n",
      "Class 38:\tTrain %: 5.345\tValid %: 4.762\tTest %: 5.463\n",
      "Class 39:\tTrain %: 0.776\tValid %: 0.680\tTest %: 0.713\n",
      "Class 40:\tTrain %: 0.862\tValid %: 1.361\tTest %: 0.713\n",
      "Class 41:\tTrain %: 0.603\tValid %: 0.680\tTest %: 0.475\n",
      "Class 42:\tTrain %: 0.603\tValid %: 0.680\tTest %: 0.713\n"
     ]
    }
   ],
   "source": [
    "for i in range(n_classes):\n",
    "    print(\"Class %d:\\tTrain %%: %0.3f\\tValid %%: %0.3f\\tTest %%: %0.3f\" % \\\n",
    "        (i, train_counts[i]/n_train*100, valid_counts[i]/n_validation*100, test_counts[i]/n_test*100))"
   ]
  },
  {
   "cell_type": "markdown",
   "metadata": {},
   "source": [
    "----\n",
    "\n",
    "## Step 2: Design and Test a Model Architecture\n",
    "\n",
    "Design and implement a deep learning model that learns to recognize traffic signs. Train and test your model on the [German Traffic Sign Dataset](http://benchmark.ini.rub.de/?section=gtsrb&subsection=dataset).\n",
    "\n",
    "The LeNet-5 implementation shown in the [classroom](https://classroom.udacity.com/nanodegrees/nd013/parts/fbf77062-5703-404e-b60c-95b78b2f3f9e/modules/6df7ae49-c61c-4bb2-a23e-6527e69209ec/lessons/601ae704-1035-4287-8b11-e2c2716217ad/concepts/d4aca031-508f-4e0b-b493-e7b706120f81) at the end of the CNN lesson is a solid starting point. You'll have to change the number of classes and possibly the preprocessing, but aside from that it's plug and play! \n",
    "\n",
    "With the LeNet-5 solution from the lecture, you should expect a validation set accuracy of about 0.89. To meet specifications, the validation set accuracy will need to be at least 0.93. It is possible to get an even higher accuracy, but 0.93 is the minimum for a successful project submission. \n",
    "\n",
    "There are various aspects to consider when thinking about this problem:\n",
    "\n",
    "- Neural network architecture (is the network over or underfitting?)\n",
    "- Play around preprocessing techniques (normalization, rgb to grayscale, etc)\n",
    "- Number of examples per label (some have more than others).\n",
    "- Generate fake data.\n",
    "\n",
    "Here is an example of a [published baseline model on this problem](http://yann.lecun.com/exdb/publis/pdf/sermanet-ijcnn-11.pdf). It's not required to be familiar with the approach used in the paper but, it's good practice to try to read papers like these."
   ]
  },
  {
   "cell_type": "markdown",
   "metadata": {},
   "source": [
    "### Pre-process the Data Set (normalization, grayscale, etc.)"
   ]
  },
  {
   "cell_type": "markdown",
   "metadata": {},
   "source": [
    "Minimally, the image data should be normalized so that the data has mean zero and equal variance. For image data, `(pixel - 128)/ 128` is a quick way to approximately normalize the data and can be used in this project. \n",
    "\n",
    "Other pre-processing steps are optional. You can try different techniques to see if it improves performance. \n",
    "\n",
    "Use the code cell (or multiple code cells, if necessary) to implement the first step of your project."
   ]
  },
  {
   "cell_type": "code",
   "execution_count": 7,
   "metadata": {},
   "outputs": [],
   "source": [
    "### Preprocess the data here. It is required to normalize the data. Other preprocessing steps could include \n",
    "### converting to grayscale, etc.\n",
    "### Feel free to use as many code cells as needed.\n",
    "import numpy as np\n",
    "\n",
    "# Normalize the training, validation, and test image data to range [-1,1] (0-mean, 1stddev)\n",
    "# Note: the image data was initially saved as np.uint8, and must be converted before subtraction\n",
    "norm_lambda = lambda X: ((X[0].astype(np.int16)-128)/128, X[1])\n",
    "\n",
    "norm_zipped_train = list(map(norm_lambda, zipped_train))\n",
    "norm_zipped_valid = list(map(norm_lambda, zipped_valid))\n",
    "norm_zipped_test = list(map(norm_lambda, zipped_test))"
   ]
  },
  {
   "cell_type": "code",
   "execution_count": 8,
   "metadata": {},
   "outputs": [
    {
     "data": {
      "image/png": "[encoded data removed]",
      "text/plain": [
       "<matplotlib.figure.Figure at 0x7f8736900ef0>"
      ]
     },
     "metadata": {
      "needs_background": "light"
     },
     "output_type": "display_data"
    }
   ],
   "source": [
    "sample_image = sample_train_images[3]\n",
    "norm_sample_image = ((sample_image.astype(np.int16)-128)/128)\n",
    "plt.subplot(1,2,1)\n",
    "plt.imshow(sample_image)\n",
    "plt.subplot(1,2,2)\n",
    "plt.imshow(norm_sample_image/2 + 0.5) # Required to re-center within [0, 1.0] range: 0.5-mean, 0.5 stddev\n",
    "plt.savefig(\"./figures/Normalization_example\")"
   ]
  },
  {
   "cell_type": "markdown",
   "metadata": {},
   "source": [
    "### Model Architecture"
   ]
  },
  {
   "cell_type": "code",
   "execution_count": 9,
   "metadata": {},
   "outputs": [],
   "source": [
    "from tensorflow.contrib.layers import flatten\n",
    "\n",
    "sample_image = norm_zipped_train[0][0]\n",
    "image_shape = sample_image.shape\n",
    "input_depth = sample_image.shape[-1]\n",
    "\n",
    "## HYPERPARAMETERS\n",
    "cnv1_out = 16\n",
    "cnv2_out = 32\n",
    "cnv_k = 5\n",
    "flatten_len = 5*5*cnv2_out\n",
    "\n",
    "def conv2d(input, weights, bias, strides, padding=\"VALID\"):\n",
    "    convout = tf.nn.conv2d(input, weights, strides=strides, padding=padding)\n",
    "    convout = tf.nn.bias_add(convout, bias)\n",
    "    return convout\n",
    "\n",
    "def maxpool(input, k):\n",
    "    return tf.nn.max_pool(input,ksize=[1,k,k,1], strides=[1,k,k,1], padding=\"VALID\")\n",
    "\n",
    "def fc(input, weights, bias):\n",
    "    return tf.add(tf.matmul(input, weights), bias)\n",
    "\n",
    "def LeNet(x, keep_prob):    \n",
    "    # Arguments used for tf.truncated_normal, randomly defines variables for the weights and biases for each layer\n",
    "    mu = 0\n",
    "    sigma = 0.1\n",
    "    \n",
    "    conv_weights = [\n",
    "        # [filter_h, filter_w, filter_d, K_filters]\n",
    "        tf.Variable(tf.truncated_normal([cnv_k, cnv_k,input_depth,cnv1_out], mean=mu, stddev=sigma)),\n",
    "        tf.Variable(tf.truncated_normal([cnv_k, cnv_k,cnv1_out,   cnv2_out], mean=mu, stddev=sigma))\n",
    "    ]\n",
    "    conv_biases = [\n",
    "        tf.Variable(tf.zeros([cnv1_out])),\n",
    "        tf.Variable(tf.zeros([cnv2_out]))\n",
    "    ]\n",
    "    # Stride: [batch_s, height_s, width_s, depth_s]\n",
    "    conv_strides = [1,1,1,1]\n",
    "    \n",
    "    fc_weights = [\n",
    "        tf.Variable(tf.truncated_normal([flatten_len,120],mean=mu, stddev=sigma)),\n",
    "        tf.Variable(tf.truncated_normal([120,84], mean=mu, stddev=sigma)),\n",
    "        tf.Variable(tf.truncated_normal([84,n_classes], mean=mu, stddev=sigma))\n",
    "    ]\n",
    "    fc_biases = [\n",
    "        tf.Variable(tf.zeros([120])),\n",
    "        tf.Variable(tf.zeros([84])),\n",
    "        tf.Variable(tf.zeros([n_classes]))\n",
    "    ]\n",
    "    \n",
    "    # TODO: Layer 1: Convolutional. Input = 32x32x3. Output = 28x28x16.\n",
    "    conv1 = conv2d(x, conv_weights[0], conv_biases[0], conv_strides, padding=\"VALID\")\n",
    "\n",
    "    # TODO: Activation.\n",
    "    conv1_act = tf.nn.relu(conv1)\n",
    "\n",
    "    # TODO: Pooling. Input = 28x28x16. Output = 14x14x16.\n",
    "    conv1_pool = maxpool(conv1_act, 2) # Subsample factor = 2\n",
    "    \n",
    "    \n",
    "    # TODO: Layer 2: Convolutional. Output = 10x10x32.\n",
    "    conv2 = conv2d(conv1_pool, conv_weights[1], conv_biases[1], conv_strides, padding=\"VALID\")\n",
    "    \n",
    "    # TODO: Activation.\n",
    "    conv2_act = tf.nn.relu(conv2)\n",
    "\n",
    "    # TODO: Pooling. Input = 10x10x32. Output = 5x5x32.\n",
    "    conv2_pool = maxpool(conv2_act, 2) # Subsample factor = 2\n",
    "    \n",
    "    # TODO: Flatten. Input = 5x5x32. Output = 800.\n",
    "    flattened = tf.contrib.layers.flatten(conv2_pool) # (None, 800) is new shape\n",
    "    \n",
    "    # TODO: Layer 3: Fully Connected. Input = 800. Output = 120.\n",
    "    fc1 = fc(flattened, fc_weights[0], fc_biases[0])\n",
    "    \n",
    "    # TODO: Activation+Dropout.\n",
    "    fc1_act = tf.nn.relu(fc1)\n",
    "    fc1_dp = tf.nn.dropout(fc1_act, keep_prob)\n",
    "    \n",
    "    # TODO: Layer 4: Fully Connected. Input = 120. Output = 84.\n",
    "    fc2 = fc(fc1_dp, fc_weights[1], fc_biases[1])\n",
    "    \n",
    "    # TODO: Activation+Dropout.\n",
    "    fc2_act = tf.nn.relu(fc2)\n",
    "    fc2_dp = tf.nn.dropout(fc2_act, keep_prob)\n",
    "\n",
    "    # TODO: Output Layer 5: Fully Connected. Input = 84. Output = 43.\n",
    "    logits = fc(fc2_dp, fc_weights[2], fc_biases[2])\n",
    "    \n",
    "    return logits"
   ]
  },
  {
   "cell_type": "markdown",
   "metadata": {},
   "source": [
    "### Train, Validate and Test the Model"
   ]
  },
  {
   "cell_type": "markdown",
   "metadata": {},
   "source": [
    "A validation set can be used to assess how well the model is performing. A low accuracy on the training and validation\n",
    "sets imply underfitting. A high accuracy on the training set but low accuracy on the validation set implies overfitting."
   ]
  },
  {
   "cell_type": "markdown",
   "metadata": {},
   "source": [
    "### Training Hyperparameters and TF setup"
   ]
  },
  {
   "cell_type": "code",
   "execution_count": 10,
   "metadata": {},
   "outputs": [],
   "source": [
    "import tensorflow as tf\n",
    "\n",
    "lr = 0.001\n",
    "train_keep_prob = 0.5\n",
    "BATCH_SIZE = 32\n",
    "EPOCHS = 20"
   ]
  },
  {
   "cell_type": "code",
   "execution_count": 11,
   "metadata": {},
   "outputs": [],
   "source": [
    "# Prepare batches of training data\n",
    "import random\n",
    "\n",
    "\n",
    "def prepare_data(Xlist, ylist):\n",
    "    # Convert Xlist and ylist to digestable format for NN\n",
    "    ## Returns (Xbatch, ybatch)\n",
    "    ## Xbatch: np.array (-1, 32, 32, input_depth)\n",
    "    ## ybatch: np.array (1D)\n",
    "    Xbatch = np.asarray(Xlist).reshape([-1, *image_shape])\n",
    "    ybatch = np.asarray(ylist)\n",
    "    return Xbatch, ybatch\n",
    "\n",
    "def minibatch_generator(train_tups):\n",
    "    # Assumes train_tups was shuffled once. Uses generator to reduce memory pressure.\n",
    "    # Returns (Xdata, yLabel) \n",
    "    # Xdata: np.array (4D)\n",
    "    # yLabel: np.array (one-hot)\n",
    "    N = len(train_tups)\n",
    "    for offset in range(0, N, BATCH_SIZE):\n",
    "        end = min(N,offset+BATCH_SIZE)\n",
    "        zipped = train_tups[offset:end]\n",
    "        Xlist, ylist = zip(*zipped)\n",
    "        yield prepare_data(Xlist, ylist)"
   ]
  },
  {
   "cell_type": "markdown",
   "metadata": {},
   "source": [
    "## Features and Labels"
   ]
  },
  {
   "cell_type": "markdown",
   "metadata": {},
   "source": [
    "Prepare tensorflow pipeline to consume images and labels.\n",
    "Labels will be converted to one-hot encoding by Tensorflow."
   ]
  },
  {
   "cell_type": "code",
   "execution_count": 12,
   "metadata": {},
   "outputs": [],
   "source": [
    "x = tf.placeholder(tf.float32, (None, *image_shape))\n",
    "y = tf.placeholder(tf.int32, (None))\n",
    "keep_prob = tf.placeholder(tf.float32) # For dropout probabilities at train vs. test time\n",
    "one_hot_y = tf.one_hot(y,n_classes)"
   ]
  },
  {
   "cell_type": "code",
   "execution_count": 13,
   "metadata": {},
   "outputs": [],
   "source": [
    "logits = LeNet(x, keep_prob)\n",
    "cross_entropy = tf.nn.softmax_cross_entropy_with_logits(labels=one_hot_y, logits=logits)\n",
    "loss_op = tf.reduce_mean(cross_entropy)\n",
    "optimizer = tf.train.AdamOptimizer(learning_rate = lr)\n",
    "training_op = optimizer.minimize(loss_op)\n",
    "\n",
    "correct_prediction = tf.equal(tf.argmax(logits, 1), tf.argmax(one_hot_y, 1))\n",
    "accuracy_op = tf.reduce_mean(tf.cast(correct_prediction, tf.float32))\n",
    "saver = tf.train.Saver()"
   ]
  },
  {
   "cell_type": "code",
   "execution_count": 14,
   "metadata": {},
   "outputs": [],
   "source": [
    "# Train for an epoch\n",
    "def training_epoch():\n",
    "    random.shuffle(norm_zipped_train)\n",
    "    for Xbatch, ybatch in minibatch_generator(norm_zipped_train):\n",
    "        sess.run(training_op, feed_dict={x: Xbatch, y: ybatch, keep_prob:train_keep_prob})\n",
    "    \n",
    "# Evaluate over all data, and return accuracy\n",
    "def measure_accuracy(zipped_data, sess):\n",
    "    n_examples = len(zipped_data)\n",
    "    tot_accuracy = 0\n",
    "    for Xbatch, ybatch in minibatch_generator(zipped_data):\n",
    "        batch_size = Xbatch.shape[0]\n",
    "        batch_acc = sess.run(accuracy_op, feed_dict={x:Xbatch, y:ybatch, keep_prob:1.0})\n",
    "        tot_accuracy += batch_acc * batch_size\n",
    "    return tot_accuracy / n_examples"
   ]
  },
  {
   "cell_type": "markdown",
   "metadata": {},
   "source": [
    "## Train the model"
   ]
  },
  {
   "cell_type": "code",
   "execution_count": null,
   "metadata": {},
   "outputs": [],
   "source": [
    "# Only save the best model by validation_accuracy of all epochs\n",
    "vacc_thresh = 0.93\n",
    "best_vacc = None\n",
    "with tf.Session() as sess:\n",
    "    sess.run(tf.global_variables_initializer())\n",
    "    \n",
    "    for i in range(EPOCHS):\n",
    "        training_epoch()\n",
    "        \n",
    "        validation_acc = measure_accuracy(norm_zipped_valid, sess)\n",
    "        print(\"EPOCH %d\" % (i+1))\n",
    "        print(\"Validation accuracy: %0.3f\\n\" % validation_acc)\n",
    "        save_flag = False\n",
    "        if validation_acc > vacc_thresh:\n",
    "            if best_vacc is None:\n",
    "                best_vacc = validation_acc\n",
    "                save_flag = True\n",
    "            elif best_vacc < validation_acc:\n",
    "                best_vacc = validation_acc\n",
    "                save_flag = True\n",
    "        if save_flag:\n",
    "            model_name = \"./TSNet-vacc-%0.3f\" % validation_acc\n",
    "            saver.save(sess, model_name)\n",
    "            print(\"Model saved: %s\" % model_name)"
   ]
  },
  {
   "cell_type": "markdown",
   "metadata": {},
   "source": [
    "## Test the model with the test set"
   ]
  },
  {
   "cell_type": "code",
   "execution_count": 16,
   "metadata": {},
   "outputs": [
    {
     "name": "stdout",
     "output_type": "stream",
     "text": [
      "INFO:tensorflow:Restoring parameters from ./TSNet-vacc-0.970\n",
      "Test accuracy: 0.953\n",
      "\n"
     ]
    }
   ],
   "source": [
    "with tf.Session() as sess:\n",
    "    saver.restore(sess, './TSNet-vacc-0.970')\n",
    "    test_acc = measure_accuracy(norm_zipped_test, sess)\n",
    "    print(\"Test accuracy: %0.3f\\n\" % test_acc)"
   ]
  },
  {
   "cell_type": "markdown",
   "metadata": {},
   "source": [
    "## Evaluate the model on training set for final training set accuracy"
   ]
  },
  {
   "cell_type": "code",
   "execution_count": 17,
   "metadata": {},
   "outputs": [
    {
     "name": "stdout",
     "output_type": "stream",
     "text": [
      "INFO:tensorflow:Restoring parameters from ./TSNet-vacc-0.970\n",
      "Training set accuracy: 0.998\n",
      "\n"
     ]
    }
   ],
   "source": [
    "with tf.Session() as sess:\n",
    "    saver.restore(sess, './TSNet-vacc-0.970')\n",
    "    train_acc = measure_accuracy(norm_zipped_train, sess)\n",
    "    print(\"Training set accuracy: %0.3f\\n\" % train_acc)"
   ]
  },
  {
   "cell_type": "markdown",
   "metadata": {},
   "source": [
    "---\n",
    "\n",
    "## Step 3: Test a Model on New Images\n",
    "\n",
    "To give yourself more insight into how your model is working, download at least five pictures of German traffic signs from the web and use your model to predict the traffic sign type.\n",
    "\n",
    "You may find `signnames.csv` useful as it contains mappings from the class id (integer) to the actual sign name."
   ]
  },
  {
   "cell_type": "markdown",
   "metadata": {},
   "source": [
    "### Load and Output the Images"
   ]
  },
  {
   "cell_type": "markdown",
   "metadata": {},
   "source": [
    "I chose eight images of which the model has rarely seen images of the same class, i.e. eight images representing eight classes that each made up less than 1% of the training set."
   ]
  },
  {
   "cell_type": "code",
   "execution_count": 18,
   "metadata": {},
   "outputs": [
    {
     "name": "stdout",
     "output_type": "stream",
     "text": [
      "net-images/class-41.jpg [class=41]:\t0.603% of the training set\n",
      "net-images/class-29.jpg [class=29]:\t0.690% of the training set\n",
      "net-images/class-42.png [class=42]:\t0.603% of the training set\n",
      "net-images/class-24.jpg [class=24]:\t0.690% of the training set\n",
      "net-images/class-37.jpg [class=37]:\t0.517% of the training set\n",
      "net-images/class-32.jpg [class=32]:\t0.603% of the training set\n",
      "net-images/class-0.jpg [class=0]:\t0.517% of the training set\n",
      "net-images/class-39.jpg [class=39]:\t0.776% of the training set\n"
     ]
    },
    {
     "data": {
      "image/png": "[encoded data removed]",
      "text/plain": [
       "<matplotlib.figure.Figure at 0x7f87098d31d0>"
      ]
     },
     "metadata": {
      "needs_background": "light"
     },
     "output_type": "display_data"
    }
   ],
   "source": [
    "import glob\n",
    "import cv2\n",
    "\n",
    "net_imagenames = glob.glob(\"net-images/*\")\n",
    "net_images = []\n",
    "net_classes = []\n",
    "for net_imagename in net_imagenames:\n",
    "    # Parse class out of image's name. Gather its class' proportion of the training set\n",
    "    name = net_imagename.split('/')[-1][:-4]\n",
    "    cls = int(name.split('-')[-1])\n",
    "    net_classes.append(cls)\n",
    "    prop = train_counts[cls]/n_train*100\n",
    "    print(net_imagename, \"[class=%d]:\\t%0.3f%% of the training set\" % (cls, prop))\n",
    "    \n",
    "    # Convert all images to RGB for viewing and for network\n",
    "    # Also, resize every image to be 32x32\n",
    "    net_img = cv2.resize(cv2.cvtColor(cv2.imread(net_imagename), cv2.COLOR_BGR2RGB), (32,32))\n",
    "    net_images.append(net_img)\n",
    "\n",
    "n_images = len(net_images)\n",
    "n_rows, n_cols = (3,3)\n",
    "for i, img in enumerate(net_images):\n",
    "    plt.subplot(n_rows, n_cols, i+1)\n",
    "    plt.imshow(img)"
   ]
  },
  {
   "cell_type": "markdown",
   "metadata": {},
   "source": [
    "### Predict the Sign Type for Each Image"
   ]
  },
  {
   "cell_type": "markdown",
   "metadata": {},
   "source": [
    "### Preprocessing the images"
   ]
  },
  {
   "cell_type": "code",
   "execution_count": 19,
   "metadata": {},
   "outputs": [],
   "source": [
    "# Bundle the images with their labels\n",
    "zipped_mytest = list(zip(net_images, net_classes))\n",
    "norm_zipped_mytest = list(map(norm_lambda, zipped_mytest))"
   ]
  },
  {
   "cell_type": "code",
   "execution_count": 20,
   "metadata": {},
   "outputs": [
    {
     "data": {
      "text/plain": [
       "2"
      ]
     },
     "execution_count": 20,
     "metadata": {},
     "output_type": "execute_result"
    }
   ],
   "source": [
    "len(list(zip(*norm_zipped_mytest)))"
   ]
  },
  {
   "cell_type": "code",
   "execution_count": 21,
   "metadata": {},
   "outputs": [
    {
     "name": "stdout",
     "output_type": "stream",
     "text": [
      "INFO:tensorflow:Restoring parameters from ./TSNet-vacc-0.970\n",
      "Predicted classes: [41  2 41 27 33 41  0 39]\n"
     ]
    }
   ],
   "source": [
    "pred_class = tf.argmax(logits, 1)\n",
    "Xlist, ylist = list(zip(*norm_zipped_mytest))\n",
    "Xbatch, ybatch = prepare_data(Xlist, ylist)\n",
    "\n",
    "with tf.Session() as sess:\n",
    "    saver.restore(sess, './TSNet-vacc-0.970')\n",
    "    pred_classes = sess.run(pred_class, feed_dict={x:Xbatch, y:ybatch, keep_prob:1.0})\n",
    "    \n",
    "print(\"Predicted classes:\", pred_classes)"
   ]
  },
  {
   "cell_type": "markdown",
   "metadata": {},
   "source": [
    "### Analyze Performance"
   ]
  },
  {
   "cell_type": "code",
   "execution_count": 22,
   "metadata": {},
   "outputs": [
    {
     "name": "stdout",
     "output_type": "stream",
     "text": [
      "INFO:tensorflow:Restoring parameters from ./TSNet-vacc-0.970\n",
      "New image accuracy: 37.500%\n"
     ]
    }
   ],
   "source": [
    "with tf.Session() as sess:\n",
    "    saver.restore(sess, './TSNet-vacc-0.970')\n",
    "    tot_acc = measure_accuracy(norm_zipped_mytest, sess)\n",
    "    print(\"New image accuracy: %0.3f%%\" % (tot_acc*100))"
   ]
  },
  {
   "cell_type": "markdown",
   "metadata": {},
   "source": [
    "### Output Top 5 Softmax Probabilities For Each Image Found on the Web"
   ]
  },
  {
   "cell_type": "markdown",
   "metadata": {},
   "source": [
    "For each of the new images, print out the model's softmax probabilities to show the **certainty** of the model's predictions (limit the output to the top 5 probabilities for each image). [`tf.nn.top_k`](https://www.tensorflow.org/versions/r0.12/api_docs/python/nn.html#top_k) could prove helpful here. \n",
    "\n",
    "The example below demonstrates how tf.nn.top_k can be used to find the top k predictions for each image.\n",
    "\n",
    "`tf.nn.top_k` will return the values and indices (class ids) of the top k predictions. So if k=3, for each sign, it'll return the 3 largest probabilities (out of a possible 43) and the correspoding class ids.\n",
    "\n",
    "Take this numpy array as an example. The values in the array represent predictions. The array contains softmax probabilities for five candidate images with six possible classes. `tf.nn.top_k` is used to choose the three classes with the highest probability:\n",
    "\n",
    "```\n",
    "# (5, 6) array\n",
    "a = np.array([[ 0.24879643,  0.07032244,  0.12641572,  0.34763842,  0.07893497,\n",
    "         0.12789202],\n",
    "       [ 0.28086119,  0.27569815,  0.08594638,  0.0178669 ,  0.18063401,\n",
    "         0.15899337],\n",
    "       [ 0.26076848,  0.23664738,  0.08020603,  0.07001922,  0.1134371 ,\n",
    "         0.23892179],\n",
    "       [ 0.11943333,  0.29198961,  0.02605103,  0.26234032,  0.1351348 ,\n",
    "         0.16505091],\n",
    "       [ 0.09561176,  0.34396535,  0.0643941 ,  0.16240774,  0.24206137,\n",
    "         0.09155967]])\n",
    "```\n",
    "\n",
    "Running it through `sess.run(tf.nn.top_k(tf.constant(a), k=3))` produces:\n",
    "\n",
    "```\n",
    "TopKV2(values=array([[ 0.34763842,  0.24879643,  0.12789202],\n",
    "       [ 0.28086119,  0.27569815,  0.18063401],\n",
    "       [ 0.26076848,  0.23892179,  0.23664738],\n",
    "       [ 0.29198961,  0.26234032,  0.16505091],\n",
    "       [ 0.34396535,  0.24206137,  0.16240774]]), indices=array([[3, 0, 5],\n",
    "       [0, 1, 4],\n",
    "       [0, 5, 1],\n",
    "       [1, 3, 5],\n",
    "       [1, 4, 3]], dtype=int32))\n",
    "```\n",
    "\n",
    "Looking just at the first row we get `[ 0.34763842,  0.24879643,  0.12789202]`, you can confirm these are the 3 largest probabilities in `a`. You'll also notice `[3, 0, 5]` are the corresponding indices."
   ]
  },
  {
   "cell_type": "code",
   "execution_count": 28,
   "metadata": {},
   "outputs": [],
   "source": [
    "map_class_to_name = {}\n",
    "with open(\"./signnames.csv\") as csvnames:\n",
    "    header = True\n",
    "    for line in csvnames.readlines():\n",
    "        if header:\n",
    "            header = False\n",
    "            continue\n",
    "        else:\n",
    "            split = line.strip().split(',')\n",
    "            cls,name = int(split[0]), split[1]\n",
    "            map_class_to_name[cls] = name"
   ]
  },
  {
   "cell_type": "code",
   "execution_count": 35,
   "metadata": {},
   "outputs": [
    {
     "name": "stdout",
     "output_type": "stream",
     "text": [
      "INFO:tensorflow:Restoring parameters from ./TSNet-vacc-0.970\n",
      "net-images/class-41.jpg[class=End of no passing]:\n",
      "\tEnd of no passing\t(99.97577%)\n",
      "\tDangerous curve to the right\t(0.02410%)\n",
      "\tNo passing\t(0.00012%)\n",
      "\tPriority road\t(0.00000%)\n",
      "\tNo passing for vehicles over 3.5 metric tons\t(0.00000%)\n",
      "net-images/class-29.jpg[class=Bicycles crossing]:\n",
      "\tSpeed limit (50km/h)\t(99.85815%)\n",
      "\tSpeed limit (30km/h)\t(0.07626%)\n",
      "\tSpeed limit (80km/h)\t(0.06229%)\n",
      "\tSpeed limit (60km/h)\t(0.00313%)\n",
      "\tSpeed limit (100km/h)\t(0.00011%)\n",
      "net-images/class-42.png[class=End of no passing by vehicles over 3.5 metric tons]:\n",
      "\tEnd of no passing\t(96.00199%)\n",
      "\tEnd of no passing by vehicles over 3.5 metric tons\t(3.95798%)\n",
      "\tEnd of all speed and passing limits\t(0.03965%)\n",
      "\tEnd of speed limit (80km/h)\t(0.00025%)\n",
      "\tTurn left ahead\t(0.00011%)\n",
      "net-images/class-24.jpg[class=Road narrows on the right]:\n",
      "\tPedestrians\t(45.90675%)\n",
      "\tGeneral caution\t(44.54217%)\n",
      "\tRoad narrows on the right\t(5.43974%)\n",
      "\tRight-of-way at the next intersection\t(3.83496%)\n",
      "\tTraffic signals\t(0.09287%)\n",
      "net-images/class-37.jpg[class=Go straight or left]:\n",
      "\tTurn right ahead\t(97.97249%)\n",
      "\tGo straight or right\t(0.86607%)\n",
      "\tRoundabout mandatory\t(0.66615%)\n",
      "\tSpeed limit (50km/h)\t(0.43300%)\n",
      "\tSpeed limit (30km/h)\t(0.05668%)\n",
      "net-images/class-32.jpg[class=End of all speed and passing limits]:\n",
      "\tEnd of no passing\t(85.76002%)\n",
      "\tEnd of all speed and passing limits\t(12.89723%)\n",
      "\tEnd of no passing by vehicles over 3.5 metric tons\t(1.24833%)\n",
      "\tEnd of speed limit (80km/h)\t(0.08293%)\n",
      "\tVehicles over 3.5 metric tons prohibited\t(0.00491%)\n",
      "net-images/class-0.jpg[class=Speed limit (20km/h)]:\n",
      "\tSpeed limit (20km/h)\t(90.06441%)\n",
      "\tSpeed limit (30km/h)\t(8.97262%)\n",
      "\tSpeed limit (50km/h)\t(0.37717%)\n",
      "\tSpeed limit (120km/h)\t(0.17857%)\n",
      "\tVehicles over 3.5 metric tons prohibited\t(0.09784%)\n",
      "net-images/class-39.jpg[class=Keep left]:\n",
      "\tKeep left\t(98.89015%)\n",
      "\tGo straight or left\t(0.94130%)\n",
      "\tRoundabout mandatory\t(0.16808%)\n",
      "\tTurn right ahead\t(0.00027%)\n",
      "\tSpeed limit (70km/h)\t(0.00020%)\n"
     ]
    }
   ],
   "source": [
    "### Print out the top five softmax probabilities for the predictions on the German traffic sign images found on the web. \n",
    "top_5 = tf.nn.top_k(tf.nn.softmax(logits), k=5)\n",
    "\n",
    "with tf.Session() as sess:\n",
    "    saver.restore(sess, './TSNet-vacc-0.970')\n",
    "    top_5_batch = sess.run(top_5, feed_dict={x:Xbatch, y:ybatch, keep_prob:1.0})\n",
    "    \n",
    "    # Zip values and indices of top 5 probabilities for each class\n",
    "    zipped_info = list(zip(net_imagenames, net_classes, top_5_batch.values, top_5_batch.indices))\n",
    "    for name, cls, values, indices in zipped_info:\n",
    "        zip_values_indices = list(zip(values, indices))\n",
    "        top_5_str = '\\n\\t'.join(['%s\\t(%0.5f%%)' % (map_class_to_name[el[1]], el[0]*100) for el in zip_values_indices])\n",
    "        print (\"%s[class=%s]:\\n\\t%s\" % (name, map_class_to_name[cls], top_5_str))"
   ]
  },
  {
   "cell_type": "markdown",
   "metadata": {},
   "source": [
    "### Project Writeup\n",
    "\n",
    "Once you have completed the code implementation, document your results in a project writeup using this [template](https://github.com/udacity/CarND-Traffic-Sign-Classifier-Project/blob/master/writeup_template.md) as a guide. The writeup can be in a markdown or pdf file. "
   ]
  },
  {
   "cell_type": "markdown",
   "metadata": {},
   "source": [
    "> **Note**: Once you have completed all of the code implementations and successfully answered each question above, you may finalize your work by exporting the iPython Notebook as an HTML document. You can do this by using the menu above and navigating to  \\n\",\n",
    "    \"**File -> Download as -> HTML (.html)**. Include the finished document along with this notebook as your submission."
   ]
  },
  {
   "cell_type": "markdown",
   "metadata": {},
   "source": [
    "---\n",
    "\n",
    "## Step 4 (Optional): Visualize the Neural Network's State with Test Images\n",
    "\n",
    " This Section is not required to complete but acts as an additional excersise for understaning the output of a neural network's weights. While neural networks can be a great learning device they are often referred to as a black box. We can understand what the weights of a neural network look like better by plotting their feature maps. After successfully training your neural network you can see what it's feature maps look like by plotting the output of the network's weight layers in response to a test stimuli image. From these plotted feature maps, it's possible to see what characteristics of an image the network finds interesting. For a sign, maybe the inner network feature maps react with high activation to the sign's boundary outline or to the contrast in the sign's painted symbol.\n",
    "\n",
    " Provided for you below is the function code that allows you to get the visualization output of any tensorflow weight layer you want. The inputs to the function should be a stimuli image, one used during training or a new one you provided, and then the tensorflow variable name that represents the layer's state during the training process, for instance if you wanted to see what the [LeNet lab's](https://classroom.udacity.com/nanodegrees/nd013/parts/fbf77062-5703-404e-b60c-95b78b2f3f9e/modules/6df7ae49-c61c-4bb2-a23e-6527e69209ec/lessons/601ae704-1035-4287-8b11-e2c2716217ad/concepts/d4aca031-508f-4e0b-b493-e7b706120f81) feature maps looked like for it's second convolutional layer you could enter conv2 as the tf_activation variable.\n",
    "\n",
    "For an example of what feature map outputs look like, check out NVIDIA's results in their paper [End-to-End Deep Learning for Self-Driving Cars](https://devblogs.nvidia.com/parallelforall/deep-learning-self-driving-cars/) in the section Visualization of internal CNN State. NVIDIA was able to show that their network's inner weights had high activations to road boundary lines by comparing feature maps from an image with a clear path to one without. Try experimenting with a similar test to show that your trained network's weights are looking for interesting features, whether it's looking at differences in feature maps from images with or without a sign, or even what feature maps look like in a trained network vs a completely untrained one on the same sign image.\n",
    "\n",
    "<figure>\n",
    " <img src=\"visualize_cnn.png\" width=\"380\" alt=\"Combined Image\" />\n",
    " <figcaption>\n",
    " <p></p> \n",
    " <p style=\"text-align: center;\"> Your output should look something like this (above)</p> \n",
    " </figcaption>\n",
    "</figure>\n",
    " <p></p> \n"
   ]
  },
  {
   "cell_type": "code",
   "execution_count": 25,
   "metadata": {},
   "outputs": [],
   "source": [
    "### Visualize your network's feature maps here.\n",
    "### Feel free to use as many code cells as needed.\n",
    "\n",
    "# image_input: the test image being fed into the network to produce the feature maps\n",
    "# tf_activation: should be a tf variable name used during your training procedure that represents the calculated state of a specific weight layer\n",
    "# activation_min/max: can be used to view the activation contrast in more detail, by default matplot sets min and max to the actual min and max values of the output\n",
    "# plt_num: used to plot out multiple different weight feature map sets on the same block, just extend the plt number for each new feature map entry\n",
    "\n",
    "def outputFeatureMap(image_input, tf_activation, activation_min=-1, activation_max=-1 ,plt_num=1):\n",
    "    # Here make sure to preprocess your image_input in a way your network expects\n",
    "    # with size, normalization, ect if needed\n",
    "    # image_input =\n",
    "    # Note: x should be the same name as your network's tensorflow data placeholder variable\n",
    "    # If you get an error tf_activation is not defined it may be having trouble accessing the variable from inside a function\n",
    "    activation = tf_activation.eval(session=sess,feed_dict={x : image_input})\n",
    "    featuremaps = activation.shape[3]\n",
    "    plt.figure(plt_num, figsize=(15,15))\n",
    "    for featuremap in range(featuremaps):\n",
    "        plt.subplot(6,8, featuremap+1) # sets the number of feature maps to show on each row and column\n",
    "        plt.title('FeatureMap ' + str(featuremap)) # displays the feature map number\n",
    "        if activation_min != -1 & activation_max != -1:\n",
    "            plt.imshow(activation[0,:,:, featuremap], interpolation=\"nearest\", vmin =activation_min, vmax=activation_max, cmap=\"gray\")\n",
    "        elif activation_max != -1:\n",
    "            plt.imshow(activation[0,:,:, featuremap], interpolation=\"nearest\", vmax=activation_max, cmap=\"gray\")\n",
    "        elif activation_min !=-1:\n",
    "            plt.imshow(activation[0,:,:, featuremap], interpolation=\"nearest\", vmin=activation_min, cmap=\"gray\")\n",
    "        else:\n",
    "            plt.imshow(activation[0,:,:, featuremap], interpolation=\"nearest\", cmap=\"gray\")"
   ]
  }
 ],
 "metadata": {
  "anaconda-cloud": {},
  "kernelspec": {
   "display_name": "Python 3",
   "language": "python",
   "name": "python3"
  },
  "language_info": {
   "codemirror_mode": {
    "name": "ipython",
    "version": 3
   },
   "file_extension": ".py",
   "mimetype": "text/x-python",
   "name": "python",
   "nbconvert_exporter": "python",
   "pygments_lexer": "ipython3",
   "version": "3.6.3"
  },
  "widgets": {
   "state": {},
   "version": "1.1.2"
  }
 },
 "nbformat": 4,
 "nbformat_minor": 1
}
